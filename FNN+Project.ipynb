{
 "cells": [
  {
   "cell_type": "markdown",
   "metadata": {},
   "source": [
    "# ML Project---- Call type classification with structured data\n",
    "Wenkai Xu"
   ]
  },
  {
   "cell_type": "markdown",
   "metadata": {},
   "source": [
    "# Introduction:\n",
    "In my country, China,  people call 119 fire police when facing a structure fire; people call 120 for medical incidents; people call 110 when illegal issues happen; etc... Different departments handle different incidents separately. In the State, it is a totally different situation and I wonder how it works and is there any underlying pattern so that we can predict the call type (for example in some certain district, medical incident is often called, which mean there might be a hospital around the area; in some certain district, water rescue is often called, which mean there's a dangerous water area). I tried to build a model to answer the questions."
   ]
  },
  {
   "cell_type": "markdown",
   "metadata": {},
   "source": [
    "In this project, I will use San Francisco Fire Department Service Calls Data from Google Big Query as my dataset to analyze. I will predict call_type such as Water Rescue, Structure Fire, Medical Incident,etc.. After observing the dataset, I found out the top 3 call types are \"Medical Incident\",\"Structure Fire\" and \"Alarms\" so that I decided to build 3 main classifiers(Medical, Alarm, Fire) at first. Later I want to inclue \"Traffic Collision\", \"Water Rescue\" and \"Others\" as other 3 classifiers. Thus, now I have 6 classifiers and I will use ML Workbench to create a classification model. BTW, \"Fire\" classifier includes Structure Fire, Outside Fire and Vehicle Fire. \"Others\" includes everything except other call_types listed above. "
   ]
  },
  {
   "cell_type": "code",
   "execution_count": 1,
   "metadata": {
    "collapsed": false
   },
   "outputs": [
    {
     "data": {
      "text/html": [
       "\n",
       "          <script src=\"/static/components/requirejs/require.js\"></script>\n",
       "          <script>\n",
       "            requirejs.config({\n",
       "              paths: {\n",
       "                base: '/static/base',\n",
       "              },\n",
       "            });\n",
       "          </script>\n",
       "          "
      ],
      "text/plain": [
       "<IPython.core.display.HTML object>"
      ]
     },
     "metadata": {},
     "output_type": "execute_result"
    }
   ],
   "source": [
    "import pandas as pd\n",
    "import matplotlib.pyplot as plt \n",
    "import numpy as np\n",
    "import google.datalab.bigquery as bq"
   ]
  },
  {
   "cell_type": "markdown",
   "metadata": {},
   "source": [
    "# Data Exploration"
   ]
  },
  {
   "cell_type": "markdown",
   "metadata": {},
   "source": [
    "Here is the original data stored as a BigQuery public dataset. See Table bigquery-public-data:san_francisco.sffd_service_calls for more details."
   ]
  },
  {
   "cell_type": "code",
   "execution_count": 2,
   "metadata": {
    "collapsed": false
   },
   "outputs": [
    {
     "data": {
      "text/html": [
       "\n",
       "          <script src=\"/static/components/requirejs/require.js\"></script>\n",
       "          <script>\n",
       "            requirejs.config({\n",
       "              paths: {\n",
       "                base: '/static/base',\n",
       "              },\n",
       "            });\n",
       "          </script>\n",
       "          "
      ],
      "text/plain": [
       "<IPython.core.display.HTML object>"
      ]
     },
     "metadata": {},
     "output_type": "execute_result"
    },
    {
     "data": {
      "text/html": [
       "<div>\n",
       "<table border=\"1\" class=\"dataframe\">\n",
       "  <thead>\n",
       "    <tr style=\"text-align: right;\">\n",
       "      <th></th>\n",
       "      <th>call_number</th>\n",
       "      <th>unit_id</th>\n",
       "      <th>incident_number</th>\n",
       "      <th>call_type</th>\n",
       "      <th>call_date</th>\n",
       "      <th>watch_date</th>\n",
       "      <th>received_timestamp</th>\n",
       "      <th>entry_timestamp</th>\n",
       "      <th>dispatch_timestamp</th>\n",
       "      <th>response_timestamp</th>\n",
       "      <th>...</th>\n",
       "      <th>number_of_alarms</th>\n",
       "      <th>unit_type</th>\n",
       "      <th>unit_sequence_in_call_dispatch</th>\n",
       "      <th>fire_prevention_district</th>\n",
       "      <th>supervisor_district</th>\n",
       "      <th>neighborhood_district</th>\n",
       "      <th>location</th>\n",
       "      <th>row_id</th>\n",
       "      <th>latitude</th>\n",
       "      <th>longitude</th>\n",
       "    </tr>\n",
       "  </thead>\n",
       "  <tbody>\n",
       "    <tr>\n",
       "      <th>0</th>\n",
       "      <td>42330014</td>\n",
       "      <td>AR1</td>\n",
       "      <td>4064337</td>\n",
       "      <td>Structure Fire</td>\n",
       "      <td>2004-08-20</td>\n",
       "      <td>2004-08-19</td>\n",
       "      <td>2004-08-20 00:51:57</td>\n",
       "      <td>2004-08-20 00:52:06</td>\n",
       "      <td>2004-08-20 00:52:21</td>\n",
       "      <td>NaT</td>\n",
       "      <td>...</td>\n",
       "      <td>1</td>\n",
       "      <td>INVESTIGATION</td>\n",
       "      <td>13</td>\n",
       "      <td>10</td>\n",
       "      <td>10</td>\n",
       "      <td></td>\n",
       "      <td>(37.7543700441294, -122.403998489901)</td>\n",
       "      <td>042330014-AR1</td>\n",
       "      <td>37.754370</td>\n",
       "      <td>-122.403998</td>\n",
       "    </tr>\n",
       "    <tr>\n",
       "      <th>1</th>\n",
       "      <td>42660005</td>\n",
       "      <td>BE1</td>\n",
       "      <td>4073628</td>\n",
       "      <td>Other</td>\n",
       "      <td>2004-09-22</td>\n",
       "      <td>2004-09-21</td>\n",
       "      <td>2004-09-22 00:18:12</td>\n",
       "      <td>2004-09-22 00:18:27</td>\n",
       "      <td>2004-09-22 00:18:34</td>\n",
       "      <td>2004-09-22 00:20:54</td>\n",
       "      <td>...</td>\n",
       "      <td>1</td>\n",
       "      <td>SUPPORT</td>\n",
       "      <td>1</td>\n",
       "      <td>4</td>\n",
       "      <td>3</td>\n",
       "      <td></td>\n",
       "      <td>(37.7895863090063, -122.417042490532)</td>\n",
       "      <td>042660005-BE1</td>\n",
       "      <td>37.789586</td>\n",
       "      <td>-122.417042</td>\n",
       "    </tr>\n",
       "    <tr>\n",
       "      <th>2</th>\n",
       "      <td>42480137</td>\n",
       "      <td>BE1</td>\n",
       "      <td>4068548</td>\n",
       "      <td>Other</td>\n",
       "      <td>2004-09-04</td>\n",
       "      <td>2004-09-04</td>\n",
       "      <td>2004-09-04 10:04:41</td>\n",
       "      <td>2004-09-04 10:04:53</td>\n",
       "      <td>2004-09-04 10:04:59</td>\n",
       "      <td>NaT</td>\n",
       "      <td>...</td>\n",
       "      <td>1</td>\n",
       "      <td>SUPPORT</td>\n",
       "      <td>1</td>\n",
       "      <td>2</td>\n",
       "      <td>10</td>\n",
       "      <td></td>\n",
       "      <td>(37.7659581887586, -122.404623338223)</td>\n",
       "      <td>042480137-BE1</td>\n",
       "      <td>37.765958</td>\n",
       "      <td>-122.404623</td>\n",
       "    </tr>\n",
       "    <tr>\n",
       "      <th>3</th>\n",
       "      <td>171132450</td>\n",
       "      <td>FB1</td>\n",
       "      <td>17048282</td>\n",
       "      <td>Water Rescue</td>\n",
       "      <td>2017-04-23</td>\n",
       "      <td>2017-04-23</td>\n",
       "      <td>2017-04-23 16:23:51</td>\n",
       "      <td>2017-04-23 16:25:02</td>\n",
       "      <td>2017-04-23 16:27:17</td>\n",
       "      <td>2017-04-23 16:29:46</td>\n",
       "      <td>...</td>\n",
       "      <td>1</td>\n",
       "      <td>SUPPORT</td>\n",
       "      <td>6</td>\n",
       "      <td>3</td>\n",
       "      <td>6</td>\n",
       "      <td></td>\n",
       "      <td>(37.7699239665163, -122.386304082705)</td>\n",
       "      <td>171132450-FB1</td>\n",
       "      <td>37.769924</td>\n",
       "      <td>-122.386304</td>\n",
       "    </tr>\n",
       "    <tr>\n",
       "      <th>4</th>\n",
       "      <td>2200208</td>\n",
       "      <td>RA13</td>\n",
       "      <td>65821</td>\n",
       "      <td>Medical Incident</td>\n",
       "      <td>2000-08-07</td>\n",
       "      <td>2000-08-07</td>\n",
       "      <td>2000-08-07 16:51:14</td>\n",
       "      <td>2000-08-07 16:55:07</td>\n",
       "      <td>2000-08-07 16:57:53</td>\n",
       "      <td>2000-08-07 17:00:37</td>\n",
       "      <td>...</td>\n",
       "      <td>1</td>\n",
       "      <td>AIRPORT</td>\n",
       "      <td>1</td>\n",
       "      <td>2</td>\n",
       "      <td>6</td>\n",
       "      <td></td>\n",
       "      <td>(37.7765219497633, -122.409677685594)</td>\n",
       "      <td>002200208-RA13</td>\n",
       "      <td>37.776522</td>\n",
       "      <td>-122.409678</td>\n",
       "    </tr>\n",
       "    <tr>\n",
       "      <th>5</th>\n",
       "      <td>2850286</td>\n",
       "      <td>RA32</td>\n",
       "      <td>85635</td>\n",
       "      <td>Medical Incident</td>\n",
       "      <td>2000-10-11</td>\n",
       "      <td>2000-10-11</td>\n",
       "      <td>2000-10-11 22:30:23</td>\n",
       "      <td>2000-10-11 22:30:47</td>\n",
       "      <td>2000-10-11 22:32:32</td>\n",
       "      <td>2000-10-11 22:33:49</td>\n",
       "      <td>...</td>\n",
       "      <td>1</td>\n",
       "      <td>AIRPORT</td>\n",
       "      <td>1</td>\n",
       "      <td>3</td>\n",
       "      <td>6</td>\n",
       "      <td></td>\n",
       "      <td>(37.7785992634984, -122.408503211368)</td>\n",
       "      <td>002850286-RA32</td>\n",
       "      <td>37.778599</td>\n",
       "      <td>-122.408503</td>\n",
       "    </tr>\n",
       "    <tr>\n",
       "      <th>6</th>\n",
       "      <td>2780205</td>\n",
       "      <td>RA38</td>\n",
       "      <td>83533</td>\n",
       "      <td>Medical Incident</td>\n",
       "      <td>2000-10-04</td>\n",
       "      <td>2000-10-04</td>\n",
       "      <td>2000-10-04 17:51:12</td>\n",
       "      <td>2000-10-04 17:52:22</td>\n",
       "      <td>2000-10-04 17:56:24</td>\n",
       "      <td>2000-10-04 17:56:59</td>\n",
       "      <td>...</td>\n",
       "      <td>1</td>\n",
       "      <td>AIRPORT</td>\n",
       "      <td>1</td>\n",
       "      <td>3</td>\n",
       "      <td>6</td>\n",
       "      <td></td>\n",
       "      <td>(37.7746534767072, -122.405118197249)</td>\n",
       "      <td>002780205-RA38</td>\n",
       "      <td>37.774653</td>\n",
       "      <td>-122.405118</td>\n",
       "    </tr>\n",
       "    <tr>\n",
       "      <th>7</th>\n",
       "      <td>3210288</td>\n",
       "      <td>RA29</td>\n",
       "      <td>96138</td>\n",
       "      <td>Medical Incident</td>\n",
       "      <td>2000-11-16</td>\n",
       "      <td>2000-11-16</td>\n",
       "      <td>2000-11-16 22:24:06</td>\n",
       "      <td>2000-11-16 22:24:29</td>\n",
       "      <td>2000-11-16 22:24:43</td>\n",
       "      <td>2000-11-16 22:26:09</td>\n",
       "      <td>...</td>\n",
       "      <td>1</td>\n",
       "      <td>AIRPORT</td>\n",
       "      <td>1</td>\n",
       "      <td>2</td>\n",
       "      <td>6</td>\n",
       "      <td></td>\n",
       "      <td>(37.7763059521196, -122.407289659071)</td>\n",
       "      <td>003210288-RA29</td>\n",
       "      <td>37.776306</td>\n",
       "      <td>-122.407290</td>\n",
       "    </tr>\n",
       "    <tr>\n",
       "      <th>8</th>\n",
       "      <td>10090079</td>\n",
       "      <td>RA29</td>\n",
       "      <td>1002725</td>\n",
       "      <td>Medical Incident</td>\n",
       "      <td>2001-01-09</td>\n",
       "      <td>2001-01-09</td>\n",
       "      <td>2001-01-09 08:26:35</td>\n",
       "      <td>2001-01-09 08:27:54</td>\n",
       "      <td>2001-01-09 08:28:28</td>\n",
       "      <td>2001-01-09 08:33:03</td>\n",
       "      <td>...</td>\n",
       "      <td>1</td>\n",
       "      <td>AIRPORT</td>\n",
       "      <td>1</td>\n",
       "      <td>3</td>\n",
       "      <td>6</td>\n",
       "      <td></td>\n",
       "      <td>(37.775420706711, -122.403404791479)</td>\n",
       "      <td>010090079-RA29</td>\n",
       "      <td>37.775421</td>\n",
       "      <td>-122.403405</td>\n",
       "    </tr>\n",
       "    <tr>\n",
       "      <th>9</th>\n",
       "      <td>2540327</td>\n",
       "      <td>RA32</td>\n",
       "      <td>76311</td>\n",
       "      <td>Medical Incident</td>\n",
       "      <td>2000-09-10</td>\n",
       "      <td>2000-09-10</td>\n",
       "      <td>2000-09-10 23:53:19</td>\n",
       "      <td>2000-09-10 23:53:49</td>\n",
       "      <td>2000-09-10 23:54:09</td>\n",
       "      <td>NaT</td>\n",
       "      <td>...</td>\n",
       "      <td>1</td>\n",
       "      <td>AIRPORT</td>\n",
       "      <td>7</td>\n",
       "      <td>2</td>\n",
       "      <td>6</td>\n",
       "      <td></td>\n",
       "      <td>(37.7715786771769, -122.411277938324)</td>\n",
       "      <td>002540327-RA32</td>\n",
       "      <td>37.771579</td>\n",
       "      <td>-122.411278</td>\n",
       "    </tr>\n",
       "  </tbody>\n",
       "</table>\n",
       "<p>10 rows × 36 columns</p>\n",
       "</div>"
      ],
      "text/plain": [
       "   call_number unit_id  incident_number         call_type   call_date  \\\n",
       "0     42330014     AR1          4064337    Structure Fire  2004-08-20   \n",
       "1     42660005     BE1          4073628             Other  2004-09-22   \n",
       "2     42480137     BE1          4068548             Other  2004-09-04   \n",
       "3    171132450     FB1         17048282      Water Rescue  2017-04-23   \n",
       "4      2200208    RA13            65821  Medical Incident  2000-08-07   \n",
       "5      2850286    RA32            85635  Medical Incident  2000-10-11   \n",
       "6      2780205    RA38            83533  Medical Incident  2000-10-04   \n",
       "7      3210288    RA29            96138  Medical Incident  2000-11-16   \n",
       "8     10090079    RA29          1002725  Medical Incident  2001-01-09   \n",
       "9      2540327    RA32            76311  Medical Incident  2000-09-10   \n",
       "\n",
       "   watch_date  received_timestamp     entry_timestamp  dispatch_timestamp  \\\n",
       "0  2004-08-19 2004-08-20 00:51:57 2004-08-20 00:52:06 2004-08-20 00:52:21   \n",
       "1  2004-09-21 2004-09-22 00:18:12 2004-09-22 00:18:27 2004-09-22 00:18:34   \n",
       "2  2004-09-04 2004-09-04 10:04:41 2004-09-04 10:04:53 2004-09-04 10:04:59   \n",
       "3  2017-04-23 2017-04-23 16:23:51 2017-04-23 16:25:02 2017-04-23 16:27:17   \n",
       "4  2000-08-07 2000-08-07 16:51:14 2000-08-07 16:55:07 2000-08-07 16:57:53   \n",
       "5  2000-10-11 2000-10-11 22:30:23 2000-10-11 22:30:47 2000-10-11 22:32:32   \n",
       "6  2000-10-04 2000-10-04 17:51:12 2000-10-04 17:52:22 2000-10-04 17:56:24   \n",
       "7  2000-11-16 2000-11-16 22:24:06 2000-11-16 22:24:29 2000-11-16 22:24:43   \n",
       "8  2001-01-09 2001-01-09 08:26:35 2001-01-09 08:27:54 2001-01-09 08:28:28   \n",
       "9  2000-09-10 2000-09-10 23:53:19 2000-09-10 23:53:49 2000-09-10 23:54:09   \n",
       "\n",
       "   response_timestamp     ...     number_of_alarms      unit_type  \\\n",
       "0                 NaT     ...                    1  INVESTIGATION   \n",
       "1 2004-09-22 00:20:54     ...                    1        SUPPORT   \n",
       "2                 NaT     ...                    1        SUPPORT   \n",
       "3 2017-04-23 16:29:46     ...                    1        SUPPORT   \n",
       "4 2000-08-07 17:00:37     ...                    1        AIRPORT   \n",
       "5 2000-10-11 22:33:49     ...                    1        AIRPORT   \n",
       "6 2000-10-04 17:56:59     ...                    1        AIRPORT   \n",
       "7 2000-11-16 22:26:09     ...                    1        AIRPORT   \n",
       "8 2001-01-09 08:33:03     ...                    1        AIRPORT   \n",
       "9                 NaT     ...                    1        AIRPORT   \n",
       "\n",
       "  unit_sequence_in_call_dispatch fire_prevention_district supervisor_district  \\\n",
       "0                             13                       10                  10   \n",
       "1                              1                        4                   3   \n",
       "2                              1                        2                  10   \n",
       "3                              6                        3                   6   \n",
       "4                              1                        2                   6   \n",
       "5                              1                        3                   6   \n",
       "6                              1                        3                   6   \n",
       "7                              1                        2                   6   \n",
       "8                              1                        3                   6   \n",
       "9                              7                        2                   6   \n",
       "\n",
       "  neighborhood_district                               location  \\\n",
       "0                        (37.7543700441294, -122.403998489901)   \n",
       "1                        (37.7895863090063, -122.417042490532)   \n",
       "2                        (37.7659581887586, -122.404623338223)   \n",
       "3                        (37.7699239665163, -122.386304082705)   \n",
       "4                        (37.7765219497633, -122.409677685594)   \n",
       "5                        (37.7785992634984, -122.408503211368)   \n",
       "6                        (37.7746534767072, -122.405118197249)   \n",
       "7                        (37.7763059521196, -122.407289659071)   \n",
       "8                         (37.775420706711, -122.403404791479)   \n",
       "9                        (37.7715786771769, -122.411277938324)   \n",
       "\n",
       "           row_id   latitude   longitude  \n",
       "0   042330014-AR1  37.754370 -122.403998  \n",
       "1   042660005-BE1  37.789586 -122.417042  \n",
       "2   042480137-BE1  37.765958 -122.404623  \n",
       "3   171132450-FB1  37.769924 -122.386304  \n",
       "4  002200208-RA13  37.776522 -122.409678  \n",
       "5  002850286-RA32  37.778599 -122.408503  \n",
       "6  002780205-RA38  37.774653 -122.405118  \n",
       "7  003210288-RA29  37.776306 -122.407290  \n",
       "8  010090079-RA29  37.775421 -122.403405  \n",
       "9  002540327-RA32  37.771579 -122.411278  \n",
       "\n",
       "[10 rows x 36 columns]"
      ]
     },
     "execution_count": 2,
     "metadata": {},
     "output_type": "execute_result"
    }
   ],
   "source": [
    "air = bq.Query('SELECT * FROM `bigquery-public-data.san_francisco.sffd_service_calls` LIMIT 10 ')\n",
    "df = air.execute(output_options=bq.QueryOutput.dataframe()).result()\n",
    "df.head(10)"
   ]
  },
  {
   "cell_type": "markdown",
   "metadata": {},
   "source": [
    "# Here is the schema for the attributes:"
   ]
  },
  {
   "cell_type": "code",
   "execution_count": 3,
   "metadata": {
    "collapsed": false
   },
   "outputs": [
    {
     "data": {
      "text/html": [
       "\n",
       "          <script src=\"/static/components/requirejs/require.js\"></script>\n",
       "          <script>\n",
       "            requirejs.config({\n",
       "              paths: {\n",
       "                base: '/static/base',\n",
       "              },\n",
       "            });\n",
       "          </script>\n",
       "          "
      ],
      "text/plain": [
       "<IPython.core.display.HTML object>"
      ]
     },
     "metadata": {},
     "output_type": "execute_result"
    },
    {
     "data": {
      "text/html": [
       "\n",
       "    <div class=\"bqsv\" id=\"1_151255206967\"></div>\n",
       "    <script>\n",
       "      require.config({\n",
       "        map: {\n",
       "          '*': {\n",
       "            datalab: 'nbextensions/gcpdatalab'\n",
       "          }\n",
       "        },\n",
       "      });\n",
       "\n",
       "      require(['datalab/bigquery', 'datalab/element!1_151255206967',\n",
       "          'datalab/style!/nbextensions/gcpdatalab/bigquery.css'],\n",
       "        function(bq, dom) {\n",
       "          bq.renderSchema(dom, [{\"description\": \"A unique 9-digit number assigned by the 911 Dispatch Center (DEM) to this call. These number are used for both Police and Fire calls.\", \"type\": \"INTEGER\", \"name\": \"call_number\", \"mode\": \"REQUIRED\"}, {\"description\": \"Unit Identifier. For example E01 for Engine 1 or T01 for Truck 1.\", \"type\": \"STRING\", \"name\": \"unit_id\", \"mode\": \"NULLABLE\"}, {\"description\": \"A unique 8-digit number assigned by DEM to this Fire incident.\", \"type\": \"INTEGER\", \"name\": \"incident_number\", \"mode\": \"NULLABLE\"}, {\"description\": \"Type of call the incident falls into. See the list below.\", \"type\": \"STRING\", \"name\": \"call_type\", \"mode\": \"NULLABLE\"}, {\"description\": \"Date the call is received at the 911 Dispatch Center. Used for reporting purposes.\", \"type\": \"DATE\", \"name\": \"call_date\", \"mode\": \"NULLABLE\"}, {\"description\": \"Watch date when the call is received. Watch date starts at 0800 each morning and ends at 0800 the next day.\", \"type\": \"DATE\", \"name\": \"watch_date\", \"mode\": \"NULLABLE\"}, {\"description\": \"Date and time of call is received at the 911 Dispatch Center.\", \"type\": \"TIMESTAMP\", \"name\": \"received_timestamp\", \"mode\": \"NULLABLE\"}, {\"description\": \"Date and time the 911 operator submits the entry of the initical call information into the CAD system\", \"type\": \"TIMESTAMP\", \"name\": \"entry_timestamp\", \"mode\": \"NULLABLE\"}, {\"description\": \"Date and time the 911 operator dispatches this unit to the call.\", \"type\": \"TIMESTAMP\", \"name\": \"dispatch_timestamp\", \"mode\": \"NULLABLE\"}, {\"description\": \"Date and time this unit acknowledges the dispatch and records that the unit is en route to the location of the call.\", \"type\": \"TIMESTAMP\", \"name\": \"response_timestamp\", \"mode\": \"NULLABLE\"}, {\"description\": \"Date and time the unit records arriving to the location of the incident\", \"type\": \"TIMESTAMP\", \"name\": \"on_scene_timestamp\", \"mode\": \"NULLABLE\"}, {\"description\": \"If this unit is an ambulance, date and time the unit begins the transport unit arrives to hospital\", \"type\": \"TIMESTAMP\", \"name\": \"transport_timestamp\", \"mode\": \"NULLABLE\"}, {\"description\": \"If this unit is an ambulance, date and time the unit arrives to the hospital.\", \"type\": \"TIMESTAMP\", \"name\": \"hospital_timestamp\", \"mode\": \"NULLABLE\"}, {\"description\": \"Disposition of the call (Code). For example TH2: Transport to Hospital - Code 2, FIR: Resolved by Fire Department\", \"type\": \"STRING\", \"name\": \"call_final_disposition\", \"mode\": \"NULLABLE\"}, {\"description\": \"Date and time this unit is not longer assigned to this call and it is available for another dispatch.\", \"type\": \"TIMESTAMP\", \"name\": \"available_timestamp\", \"mode\": \"NULLABLE\"}, {\"description\": \"Address of midblock point associated with incident (obfuscated address to protect caller privacy)\", \"type\": \"STRING\", \"name\": \"address\", \"mode\": \"NULLABLE\"}, {\"description\": \"City of incident\", \"type\": \"STRING\", \"name\": \"city\", \"mode\": \"NULLABLE\"}, {\"description\": \"Zipcode of incident\", \"type\": \"STRING\", \"name\": \"zipcode_of_incident\", \"mode\": \"NULLABLE\"}, {\"description\": \"Emergency Response District (There are 9 Fire Emergency Response Districts)\", \"type\": \"STRING\", \"name\": \"battalion\", \"mode\": \"NULLABLE\"}, {\"description\": \"Fire Station First Response Area associated with the address of the incident\", \"type\": \"STRING\", \"name\": \"station_area\", \"mode\": \"NULLABLE\"}, {\"description\": \"Fire box associated with the address of the incident. A box is the smallest area used to divide the City. Each box is associated with a unique unit dispatch order. The City is divided into more than 2,400 boxes.\", \"type\": \"STRING\", \"name\": \"box\", \"mode\": \"NULLABLE\"}, {\"description\": \"Initial call priority (Code 2: Non-Emergency or Code 3:Emergency).\", \"type\": \"STRING\", \"name\": \"original_priority\", \"mode\": \"NULLABLE\"}, {\"description\": \"Call priority (Code 2: Non-Emergency or Code 3:Emergency).\", \"type\": \"STRING\", \"name\": \"priority\", \"mode\": \"NULLABLE\"}, {\"description\": \"Final call priority (Code 2: Non-Emergency or Code 3:Emergency).\", \"type\": \"INTEGER\", \"name\": \"final_priority\", \"mode\": \"NULLABLE\"}, {\"description\": \"Does this unit includes ALS (Advance Life Support) resources? Is there a paramedic in this unit?\", \"type\": \"BOOLEAN\", \"name\": \"als_unit\", \"mode\": \"NULLABLE\"}, {\"description\": \"Call types are divided into four main groups: Fire, Alarm, Potential Life Threatening and Non Life Threatening.\", \"type\": \"STRING\", \"name\": \"call_type_group\", \"mode\": \"NULLABLE\"}, {\"description\": \"Number of alarms associated with the incident. This is a number between 1 and 5.\", \"type\": \"INTEGER\", \"name\": \"number_of_alarms\", \"mode\": \"NULLABLE\"}, {\"description\": \"Unit type\", \"type\": \"STRING\", \"name\": \"unit_type\", \"mode\": \"NULLABLE\"}, {\"description\": \"A number that indicates the order this unit was assigned to this call\", \"type\": \"INTEGER\", \"name\": \"unit_sequence_in_call_dispatch\", \"mode\": \"NULLABLE\"}, {\"description\": \"Bureau of Fire Prevention District associated with this address\", \"type\": \"STRING\", \"name\": \"fire_prevention_district\", \"mode\": \"NULLABLE\"}, {\"description\": \"Supervisor District associated with this address\", \"type\": \"STRING\", \"name\": \"supervisor_district\", \"mode\": \"NULLABLE\"}, {\"description\": \"Neighborhood District associated with this address, boundaries available here: https://data.sfgov.org/d/p5b7-5n3h\", \"type\": \"STRING\", \"name\": \"neighborhood_district\", \"mode\": \"NULLABLE\"}, {\"description\": \"Latitude and longitude of address obfuscated either to the midblock, intersection or call box\", \"type\": \"STRING\", \"name\": \"location\", \"mode\": \"NULLABLE\"}, {\"description\": \"Unique identifier used for managing data updates. It is the concatenation of Call Number and Unit ID separated by a dash\", \"type\": \"STRING\", \"name\": \"row_id\", \"mode\": \"NULLABLE\"}, {\"description\": \"Latitude of the address\", \"type\": \"FLOAT\", \"name\": \"latitude\", \"mode\": \"NULLABLE\"}, {\"description\": \"Longitude of the address\", \"type\": \"FLOAT\", \"name\": \"longitude\", \"mode\": \"NULLABLE\"}]);\n",
       "        }\n",
       "      );\n",
       "    </script>\n",
       "    "
      ],
      "text/plain": [
       "<IPython.core.display.HTML object>"
      ]
     },
     "execution_count": 3,
     "metadata": {},
     "output_type": "execute_result"
    }
   ],
   "source": [
    "%%bq tables describe\n",
    "name: bigquery-public-data.san_francisco.sffd_service_calls"
   ]
  },
  {
   "cell_type": "markdown",
   "metadata": {},
   "source": [
    "Many of the attributes are redundant, for example we have latitude and longitude so I decide to drop location; we have box address so I dropped the district-related attributes. \"Address\" is a text feature (not categorical) because of the large unique values size. \"Unit_type\", \"priority\", \"call_final_disposition\" and etc.. are categorical columns. At last, I have converted \"timestamp\" into weekday, day_in_year, hours to make them more meaningful."
   ]
  },
  {
   "cell_type": "markdown",
   "metadata": {},
   "source": [
    "# Here is the total counts:"
   ]
  },
  {
   "cell_type": "code",
   "execution_count": 4,
   "metadata": {
    "collapsed": false
   },
   "outputs": [
    {
     "data": {
      "text/html": [
       "\n",
       "          <script src=\"/static/components/requirejs/require.js\"></script>\n",
       "          <script>\n",
       "            requirejs.config({\n",
       "              paths: {\n",
       "                base: '/static/base',\n",
       "              },\n",
       "            });\n",
       "          </script>\n",
       "          "
      ],
      "text/plain": [
       "<IPython.core.display.HTML object>"
      ]
     },
     "metadata": {},
     "output_type": "execute_result"
    },
    {
     "data": {
      "text/html": [
       "\n",
       "    <div class=\"bqtv\" id=\"2_151255207697\"><table><tr><th>f0_</th></tr><tr><td>4513036</td></tr></table></div>\n",
       "    <br />(rows: 1, time: 0.2s, cached, job: job_cSWv8ew50CRWvN4nSxUFfMQ2QWvT)<br />\n",
       "    <script>\n",
       "\n",
       "      require.config({\n",
       "        paths: {\n",
       "          d3: '//cdnjs.cloudflare.com/ajax/libs/d3/3.4.13/d3',\n",
       "          plotly: 'https://cdn.plot.ly/plotly-1.5.1.min.js?noext',\n",
       "          jquery: '//ajax.googleapis.com/ajax/libs/jquery/2.0.0/jquery.min'\n",
       "        },\n",
       "        map: {\n",
       "          '*': {\n",
       "            datalab: 'nbextensions/gcpdatalab'\n",
       "          }\n",
       "        },\n",
       "        shim: {\n",
       "          plotly: {\n",
       "            deps: ['d3', 'jquery'],\n",
       "            exports: 'plotly'\n",
       "          }\n",
       "        }\n",
       "      });\n",
       "\n",
       "      require(['datalab/charting', 'datalab/element!2_151255207697', 'base/js/events',\n",
       "          'datalab/style!/nbextensions/gcpdatalab/charting.css'],\n",
       "        function(charts, dom, events) {\n",
       "          charts.render('gcharts', dom, events, 'table', [], {\"rows\": [{\"c\": [{\"v\": 4513036}]}], \"cols\": [{\"type\": \"number\", \"id\": \"f0_\", \"label\": \"f0_\"}]},\n",
       "            {\n",
       "              pageSize: 25,\n",
       "              cssClassNames:  {\n",
       "                tableRow: 'gchart-table-row',\n",
       "                headerRow: 'gchart-table-headerrow',\n",
       "                oddTableRow: 'gchart-table-oddrow',\n",
       "                selectedTableRow: 'gchart-table-selectedrow',\n",
       "                hoverTableRow: 'gchart-table-hoverrow',\n",
       "                tableCell: 'gchart-table-cell',\n",
       "                headerCell: 'gchart-table-headercell',\n",
       "                rowNumberCell: 'gchart-table-rownumcell'\n",
       "              }\n",
       "            },\n",
       "            {source_index: 0, fields: 'f0_'},\n",
       "            0,\n",
       "            1);\n",
       "        }\n",
       "      );\n",
       "    </script>\n",
       "  "
      ],
      "text/plain": [
       "QueryResultsTable job_cSWv8ew50CRWvN4nSxUFfMQ2QWvT"
      ]
     },
     "execution_count": 4,
     "metadata": {},
     "output_type": "execute_result"
    }
   ],
   "source": [
    "%%bq query\n",
    "\n",
    "select count(*) from `bigquery-public-data.san_francisco.sffd_service_calls`"
   ]
  },
  {
   "cell_type": "markdown",
   "metadata": {},
   "source": [
    "From the table above, we can see that the top 4 attributes are \tMedical Incident, Structure Fire, Alarms and Traffic Collision.\n",
    "I made 6 classifiers as following: Medical, Alarm, Fire, Traffic Collision, Water Rescue and Others."
   ]
  },
  {
   "cell_type": "markdown",
   "metadata": {},
   "source": [
    "# Data Prep"
   ]
  },
  {
   "cell_type": "markdown",
   "metadata": {},
   "source": [
    "I select the features from source table, sample it (to fit local run), split it into train/eval set, and also do some feature extraction."
   ]
  },
  {
   "cell_type": "code",
   "execution_count": 5,
   "metadata": {
    "collapsed": false
   },
   "outputs": [
    {
     "data": {
      "text/html": [
       "\n",
       "          <script src=\"/static/components/requirejs/require.js\"></script>\n",
       "          <script>\n",
       "            requirejs.config({\n",
       "              paths: {\n",
       "                base: '/static/base',\n",
       "              },\n",
       "            });\n",
       "          </script>\n",
       "          "
      ],
      "text/plain": [
       "<IPython.core.display.HTML object>"
      ]
     },
     "metadata": {},
     "output_type": "execute_result"
    }
   ],
   "source": [
    "%%bq query --name calls\n",
    "SELECT\n",
    "  call_number,\n",
    "  unit_type,\n",
    "  unit_id, \n",
    "  box,\n",
    "  priority,\n",
    "  address,\n",
    "  call_type_group,\n",
    "  call_final_disposition,\n",
    "  number_of_alarms,\n",
    "  CASE WHEN call_type='Medical Incident'  Then 'Medical' WHEN call_type='Alarms' Then 'Alarm' WHEN (call_type='Structure Fire' or call_type='Vehicle Fire' or call_type=\"Outside Fire\") Then 'Fire' When call_type=\"Traffic Collision\" Then \"Traffic Collision\" When call_type=\"Water Rescue\" Then \"Water Rescue\" else 'Others' END as call_type, \n",
    "  longitude,\n",
    "  latitude,\n",
    "  CAST(EXTRACT(HOUR FROM received_timestamp) AS STRING) as hour,\n",
    "  CAST(EXTRACT(DAYOFWEEK FROM received_timestamp) AS STRING) as weekday,\n",
    "  CAST(EXTRACT(DAYOFYEAR FROM received_timestamp) AS STRING) as day\n",
    "FROM `bigquery-public-data.san_francisco.sffd_service_calls`"
   ]
  },
  {
   "cell_type": "markdown",
   "metadata": {},
   "source": [
    "\n",
    "\n",
    "I sample 3% data, and split it into train/eval set.\n",
    "\n"
   ]
  },
  {
   "cell_type": "code",
   "execution_count": 6,
   "metadata": {
    "collapsed": false
   },
   "outputs": [
    {
     "data": {
      "text/html": [
       "\n",
       "          <script src=\"/static/components/requirejs/require.js\"></script>\n",
       "          <script>\n",
       "            requirejs.config({\n",
       "              paths: {\n",
       "                base: '/static/base',\n",
       "              },\n",
       "            });\n",
       "          </script>\n",
       "          "
      ],
      "text/plain": [
       "<IPython.core.display.HTML object>"
      ]
     },
     "metadata": {},
     "output_type": "execute_result"
    }
   ],
   "source": [
    "import google.datalab.bigquery as bq\n",
    "import numpy as np\n",
    "\n",
    "sampling = bq.Sampling.random(percent=3)\n",
    "job = calls.execute(sampling=sampling)\n",
    "result = job.result()\n",
    "data_schema = result.schema\n",
    "df = result.to_dataframe()\n",
    "\n",
    "msk = np.random.rand(len(df)) < 0.9\n",
    "train_df = df[msk]\n",
    "eval_df = df[~msk]"
   ]
  },
  {
   "cell_type": "code",
   "execution_count": 7,
   "metadata": {
    "collapsed": false
   },
   "outputs": [
    {
     "data": {
      "text/html": [
       "\n",
       "          <script src=\"/static/components/requirejs/require.js\"></script>\n",
       "          <script>\n",
       "            requirejs.config({\n",
       "              paths: {\n",
       "                base: '/static/base',\n",
       "              },\n",
       "            });\n",
       "          </script>\n",
       "          "
      ],
      "text/plain": [
       "<IPython.core.display.HTML object>"
      ]
     },
     "metadata": {},
     "output_type": "execute_result"
    },
    {
     "name": "stdout",
     "output_type": "stream",
     "text": [
      "Training set includes 121942 instances.\n",
      "Eval set includes 13461 instances.\n"
     ]
    }
   ],
   "source": [
    "print('Training set includes %d instances.' % len(train_df))\n",
    "print('Eval set includes %d instances.' % len(eval_df))"
   ]
  },
  {
   "cell_type": "code",
   "execution_count": 8,
   "metadata": {
    "collapsed": false
   },
   "outputs": [
    {
     "data": {
      "text/html": [
       "\n",
       "          <script src=\"/static/components/requirejs/require.js\"></script>\n",
       "          <script>\n",
       "            requirejs.config({\n",
       "              paths: {\n",
       "                base: '/static/base',\n",
       "              },\n",
       "            });\n",
       "          </script>\n",
       "          "
      ],
      "text/plain": [
       "<IPython.core.display.HTML object>"
      ]
     },
     "metadata": {},
     "output_type": "execute_result"
    }
   ],
   "source": [
    "!mkdir -p ./calls"
   ]
  },
  {
   "cell_type": "code",
   "execution_count": 9,
   "metadata": {
    "collapsed": false
   },
   "outputs": [
    {
     "data": {
      "text/html": [
       "\n",
       "          <script src=\"/static/components/requirejs/require.js\"></script>\n",
       "          <script>\n",
       "            requirejs.config({\n",
       "              paths: {\n",
       "                base: '/static/base',\n",
       "              },\n",
       "            });\n",
       "          </script>\n",
       "          "
      ],
      "text/plain": [
       "<IPython.core.display.HTML object>"
      ]
     },
     "metadata": {},
     "output_type": "execute_result"
    }
   ],
   "source": [
    "train_df.to_csv('./calls/train.csv', header=False, index=False)\n",
    "eval_df.to_csv('./calls/eval.csv', header=False, index=False)"
   ]
  },
  {
   "cell_type": "markdown",
   "metadata": {},
   "source": [
    "# Building Model "
   ]
  },
  {
   "cell_type": "markdown",
   "metadata": {},
   "source": [
    "I am following the model building steps--- Analysis, Transform, Training, Evaluation."
   ]
  },
  {
   "cell_type": "code",
   "execution_count": 10,
   "metadata": {
    "collapsed": false
   },
   "outputs": [
    {
     "data": {
      "text/html": [
       "\n",
       "          <script src=\"/static/components/requirejs/require.js\"></script>\n",
       "          <script>\n",
       "            requirejs.config({\n",
       "              paths: {\n",
       "                base: '/static/base',\n",
       "              },\n",
       "            });\n",
       "          </script>\n",
       "          "
      ],
      "text/plain": [
       "<IPython.core.display.HTML object>"
      ]
     },
     "metadata": {},
     "output_type": "execute_result"
    }
   ],
   "source": [
    "import google.datalab.contrib.mlworkbench.commands"
   ]
  },
  {
   "cell_type": "markdown",
   "metadata": {},
   "source": [
    "# Creating Model with ML Workbench locally"
   ]
  },
  {
   "cell_type": "code",
   "execution_count": 11,
   "metadata": {
    "collapsed": false
   },
   "outputs": [
    {
     "data": {
      "text/html": [
       "\n",
       "          <script src=\"/static/components/requirejs/require.js\"></script>\n",
       "          <script>\n",
       "            requirejs.config({\n",
       "              paths: {\n",
       "                base: '/static/base',\n",
       "              },\n",
       "            });\n",
       "          </script>\n",
       "          "
      ],
      "text/plain": [
       "<IPython.core.display.HTML object>"
      ]
     },
     "metadata": {},
     "output_type": "execute_result"
    }
   ],
   "source": [
    "%%ml dataset create\n",
    "format: csv\n",
    "train: ./calls/train.csv\n",
    "eval: ./calls/eval.csv\n",
    "name: calls_3pcnt\n",
    "schema: $data_schema"
   ]
  },
  {
   "cell_type": "code",
   "execution_count": 12,
   "metadata": {
    "collapsed": false
   },
   "outputs": [
    {
     "data": {
      "text/html": [
       "\n",
       "          <script src=\"/static/components/requirejs/require.js\"></script>\n",
       "          <script>\n",
       "            requirejs.config({\n",
       "              paths: {\n",
       "                base: '/static/base',\n",
       "              },\n",
       "            });\n",
       "          </script>\n",
       "          "
      ],
      "text/plain": [
       "<IPython.core.display.HTML object>"
      ]
     },
     "metadata": {},
     "output_type": "execute_result"
    }
   ],
   "source": [
    "!rm -r -f ./calls/analysis"
   ]
  },
  {
   "cell_type": "markdown",
   "metadata": {},
   "source": [
    "# Step 1: Analyze"
   ]
  },
  {
   "cell_type": "code",
   "execution_count": 13,
   "metadata": {
    "collapsed": false
   },
   "outputs": [
    {
     "data": {
      "text/html": [
       "\n",
       "          <script src=\"/static/components/requirejs/require.js\"></script>\n",
       "          <script>\n",
       "            requirejs.config({\n",
       "              paths: {\n",
       "                base: '/static/base',\n",
       "              },\n",
       "            });\n",
       "          </script>\n",
       "          "
      ],
      "text/plain": [
       "<IPython.core.display.HTML object>"
      ]
     },
     "metadata": {},
     "output_type": "execute_result"
    },
    {
     "name": "stdout",
     "output_type": "stream",
     "text": [
      "Expanding any file patterns...\n",
      "file list computed.\n",
      "Analyzing file /content/datalab/calls/train.csv...\n",
      "file /content/datalab/calls/train.csv analyzed.\n"
     ]
    }
   ],
   "source": [
    "%%ml analyze\n",
    "output: ./calls/analysis\n",
    "data: calls_3pcnt\n",
    "features:\n",
    "  call_number:\n",
    "    transform: key\n",
    "  unit_type:\n",
    "    transform: one_hot         \n",
    "  unit_id:\n",
    "    transform: one_hot \n",
    "  box:\n",
    "    transform: one_hot\n",
    "  priority:\n",
    "    transform: one_hot\n",
    "  address:\n",
    "    transform: bag_of_words\n",
    "  call_type_group:\n",
    "    transform: one_hot\n",
    "  call_final_disposition:\n",
    "    transform: one_hot  \n",
    "  number_of_alarms:\n",
    "    transform: scale \n",
    "  call_type:\n",
    "    transform: target \n",
    "  longitude:\n",
    "    transform: scale\n",
    "  latitude:\n",
    "    transform: scale\n",
    "  hour:\n",
    "    transform: one_hot\n",
    "  weekday:\n",
    "    transform: one_hot\n",
    "  day:\n",
    "    transform: one_hot"
   ]
  },
  {
   "cell_type": "markdown",
   "metadata": {},
   "source": [
    "The following attributes number of alarms, longitude and latitude are integers so that I have them transformed into scale. Call-type is the target and call_number is the primary key. The remaining attributes are strings and are transformed into one_hot."
   ]
  },
  {
   "cell_type": "code",
   "execution_count": 14,
   "metadata": {
    "collapsed": false
   },
   "outputs": [
    {
     "data": {
      "text/html": [
       "\n",
       "          <script src=\"/static/components/requirejs/require.js\"></script>\n",
       "          <script>\n",
       "            requirejs.config({\n",
       "              paths: {\n",
       "                base: '/static/base',\n",
       "              },\n",
       "            });\n",
       "          </script>\n",
       "          "
      ],
      "text/plain": [
       "<IPython.core.display.HTML object>"
      ]
     },
     "metadata": {},
     "output_type": "execute_result"
    }
   ],
   "source": [
    "!rm -r -f ./calls/transform"
   ]
  },
  {
   "cell_type": "markdown",
   "metadata": {},
   "source": [
    "# Step 2: Transform"
   ]
  },
  {
   "cell_type": "code",
   "execution_count": 15,
   "metadata": {
    "collapsed": false
   },
   "outputs": [
    {
     "data": {
      "text/html": [
       "\n",
       "          <script src=\"/static/components/requirejs/require.js\"></script>\n",
       "          <script>\n",
       "            requirejs.config({\n",
       "              paths: {\n",
       "                base: '/static/base',\n",
       "              },\n",
       "            });\n",
       "          </script>\n",
       "          "
      ],
      "text/plain": [
       "<IPython.core.display.HTML object>"
      ]
     },
     "metadata": {},
     "output_type": "execute_result"
    },
    {
     "name": "stdout",
     "output_type": "stream",
     "text": [
      "/usr/local/lib/python2.7/dist-packages/apache_beam/coders/typecoders.py:135: UserWarning: Using fallback coder for typehint: Any.\n",
      "  warnings.warn('Using fallback coder for typehint: %r.' % typehint)\n",
      "WARNING:root:Couldn't find python-snappy so the implementation of _TFRecordUtil._masked_crc32c is not as fast as it could be.\n",
      "/usr/local/lib/python2.7/dist-packages/apache_beam/coders/typecoders.py:135: UserWarning: Using fallback coder for typehint: Any.\n",
      "  warnings.warn('Using fallback coder for typehint: %r.' % typehint)\n",
      "WARNING:root:Couldn't find python-snappy so the implementation of _TFRecordUtil._masked_crc32c is not as fast as it could be.\n"
     ]
    }
   ],
   "source": [
    "%%ml transform\n",
    "output: ./calls/transform\n",
    "analysis: ./calls/analysis\n",
    "shuffle: true\n",
    "data: calls_3pcnt"
   ]
  },
  {
   "cell_type": "code",
   "execution_count": 16,
   "metadata": {
    "collapsed": false
   },
   "outputs": [
    {
     "data": {
      "text/html": [
       "\n",
       "          <script src=\"/static/components/requirejs/require.js\"></script>\n",
       "          <script>\n",
       "            requirejs.config({\n",
       "              paths: {\n",
       "                base: '/static/base',\n",
       "              },\n",
       "            });\n",
       "          </script>\n",
       "          "
      ],
      "text/plain": [
       "<IPython.core.display.HTML object>"
      ]
     },
     "metadata": {},
     "output_type": "execute_result"
    }
   ],
   "source": [
    "%%ml dataset create\n",
    "format: transformed\n",
    "name: calls_3pcnt_transformed\n",
    "train: ./calls/transform/train-*\n",
    "eval: ./calls/transform/eval-*"
   ]
  },
  {
   "cell_type": "code",
   "execution_count": 17,
   "metadata": {
    "collapsed": false
   },
   "outputs": [
    {
     "data": {
      "text/html": [
       "\n",
       "          <script src=\"/static/components/requirejs/require.js\"></script>\n",
       "          <script>\n",
       "            requirejs.config({\n",
       "              paths: {\n",
       "                base: '/static/base',\n",
       "              },\n",
       "            });\n",
       "          </script>\n",
       "          "
      ],
      "text/plain": [
       "<IPython.core.display.HTML object>"
      ]
     },
     "metadata": {},
     "output_type": "execute_result"
    },
    {
     "name": "stdout",
     "output_type": "stream",
     "text": [
      "train data instances: 121942\n",
      "eval data instances: 13461\n"
     ]
    }
   ],
   "source": [
    "%%ml dataset explore\n",
    "name: calls_3pcnt_transformed"
   ]
  },
  {
   "cell_type": "markdown",
   "metadata": {},
   "source": [
    "# Step 3: Training"
   ]
  },
  {
   "cell_type": "code",
   "execution_count": 18,
   "metadata": {
    "collapsed": false
   },
   "outputs": [
    {
     "data": {
      "text/html": [
       "\n",
       "          <script src=\"/static/components/requirejs/require.js\"></script>\n",
       "          <script>\n",
       "            requirejs.config({\n",
       "              paths: {\n",
       "                base: '/static/base',\n",
       "              },\n",
       "            });\n",
       "          </script>\n",
       "          "
      ],
      "text/plain": [
       "<IPython.core.display.HTML object>"
      ]
     },
     "metadata": {},
     "output_type": "execute_result"
    }
   ],
   "source": [
    "!rm -r -f ./calls/train"
   ]
  },
  {
   "cell_type": "code",
   "execution_count": 22,
   "metadata": {
    "collapsed": false
   },
   "outputs": [
    {
     "data": {
      "text/html": [
       "\n",
       "          <script src=\"/static/components/requirejs/require.js\"></script>\n",
       "          <script>\n",
       "            requirejs.config({\n",
       "              paths: {\n",
       "                base: '/static/base',\n",
       "              },\n",
       "            });\n",
       "          </script>\n",
       "          "
      ],
      "text/plain": [
       "<IPython.core.display.HTML object>"
      ]
     },
     "metadata": {},
     "output_type": "execute_result"
    },
    {
     "data": {
      "text/html": [
       "<p>TensorBoard was started successfully with pid 15898. Click <a href=\"/_proxy/54904/\" target=\"_blank\">here</a> to access it.</p>"
      ]
     },
     "metadata": {},
     "output_type": "execute_result"
    }
   ],
   "source": [
    "%%ml train\n",
    "output: ./calls/train\n",
    "analysis: ./calls/analysis\n",
    "data: calls_3pcnt_transformed\n",
    "model_args:\n",
    "    model: dnn_classification\n",
    "    hidden-layer-size1: 200"
   ]
  },
  {
   "cell_type": "markdown",
   "metadata": {},
   "source": [
    "In the training process, I have chosen only #1 layer and #200 nodes because my dataset is about 1.5G, if I built other layers or add too many nodes, it will be too slow. However, the lack of layers and nodes might reduce my model's accuracy."
   ]
  },
  {
   "cell_type": "markdown",
   "metadata": {},
   "source": [
    "# Step 4: Evaluation using batch prediction"
   ]
  },
  {
   "cell_type": "code",
   "execution_count": 23,
   "metadata": {
    "collapsed": false
   },
   "outputs": [
    {
     "data": {
      "text/html": [
       "\n",
       "          <script src=\"/static/components/requirejs/require.js\"></script>\n",
       "          <script>\n",
       "            requirejs.config({\n",
       "              paths: {\n",
       "                base: '/static/base',\n",
       "              },\n",
       "            });\n",
       "          </script>\n",
       "          "
      ],
      "text/plain": [
       "<IPython.core.display.HTML object>"
      ]
     },
     "metadata": {},
     "output_type": "execute_result"
    }
   ],
   "source": [
    "!rm -r -f ./calls/batch_predict # Delete previous results."
   ]
  },
  {
   "cell_type": "code",
   "execution_count": 24,
   "metadata": {
    "collapsed": false
   },
   "outputs": [
    {
     "data": {
      "text/html": [
       "\n",
       "          <script src=\"/static/components/requirejs/require.js\"></script>\n",
       "          <script>\n",
       "            requirejs.config({\n",
       "              paths: {\n",
       "                base: '/static/base',\n",
       "              },\n",
       "            });\n",
       "          </script>\n",
       "          "
      ],
      "text/plain": [
       "<IPython.core.display.HTML object>"
      ]
     },
     "metadata": {},
     "output_type": "execute_result"
    },
    {
     "name": "stdout",
     "output_type": "stream",
     "text": [
      "local prediction...\n",
      "INFO:tensorflow:Restoring parameters from ./calls/train/evaluation_model/variables/variables\n",
      "done.\n"
     ]
    }
   ],
   "source": [
    "%%ml batch_predict\n",
    "model: ./calls/train/evaluation_model/\n",
    "output: ./calls/evaluation\n",
    "format: csv\n",
    "data:\n",
    "  csv: ./calls/eval.csv"
   ]
  },
  {
   "cell_type": "markdown",
   "metadata": {},
   "source": [
    "# Confusion_matrix"
   ]
  },
  {
   "cell_type": "code",
   "execution_count": 25,
   "metadata": {
    "collapsed": false
   },
   "outputs": [
    {
     "data": {
      "text/html": [
       "\n",
       "          <script src=\"/static/components/requirejs/require.js\"></script>\n",
       "          <script>\n",
       "            requirejs.config({\n",
       "              paths: {\n",
       "                base: '/static/base',\n",
       "              },\n",
       "            });\n",
       "          </script>\n",
       "          "
      ],
      "text/plain": [
       "<IPython.core.display.HTML object>"
      ]
     },
     "metadata": {},
     "output_type": "execute_result"
    },
    {
     "data": {
      "image/png": "[encoded data removed]",
      "text/plain": [
       "<matplotlib.figure.Figure at 0x7fe2d5322b10>"
      ]
     },
     "metadata": {},
     "output_type": "display_data"
    }
   ],
   "source": [
    "%%ml evaluate confusion_matrix --plot\n",
    "csv: ./calls/evaluation/predict_results_eval.csv"
   ]
  },
  {
   "cell_type": "markdown",
   "metadata": {},
   "source": [
    "Looking at the confusion_matrix, the overall accuracy is quite acceptable. However, many \"Traffic Collision\" turns out to be classified as \"Medical\" so it has pretty low accuracy. For the \"Medical\" part, my model predicts pretty well with high accuracy but some other classes are often recognized as it. I think in real life, sometimes when traffic collision happens, medical help and traffic collision are always called simultaneously. It is very hard to distinguish these two."
   ]
  },
  {
   "cell_type": "markdown",
   "metadata": {},
   "source": [
    "# Evaluating Accuracy"
   ]
  },
  {
   "cell_type": "code",
   "execution_count": 26,
   "metadata": {
    "collapsed": false
   },
   "outputs": [
    {
     "data": {
      "text/html": [
       "\n",
       "          <script src=\"/static/components/requirejs/require.js\"></script>\n",
       "          <script>\n",
       "            requirejs.config({\n",
       "              paths: {\n",
       "                base: '/static/base',\n",
       "              },\n",
       "            });\n",
       "          </script>\n",
       "          "
      ],
      "text/plain": [
       "<IPython.core.display.HTML object>"
      ]
     },
     "metadata": {},
     "output_type": "execute_result"
    },
    {
     "data": {
      "text/html": [
       "<div>\n",
       "<table border=\"1\" class=\"dataframe\">\n",
       "  <thead>\n",
       "    <tr style=\"text-align: right;\">\n",
       "      <th></th>\n",
       "      <th>accuracy</th>\n",
       "      <th>count</th>\n",
       "      <th>target</th>\n",
       "    </tr>\n",
       "  </thead>\n",
       "  <tbody>\n",
       "    <tr>\n",
       "      <th>0</th>\n",
       "      <td>0.513224</td>\n",
       "      <td>1399</td>\n",
       "      <td>Alarm</td>\n",
       "    </tr>\n",
       "    <tr>\n",
       "      <th>1</th>\n",
       "      <td>0.682252</td>\n",
       "      <td>1989</td>\n",
       "      <td>Fire</td>\n",
       "    </tr>\n",
       "    <tr>\n",
       "      <th>2</th>\n",
       "      <td>0.932163</td>\n",
       "      <td>8771</td>\n",
       "      <td>Medical</td>\n",
       "    </tr>\n",
       "    <tr>\n",
       "      <th>3</th>\n",
       "      <td>0.131934</td>\n",
       "      <td>667</td>\n",
       "      <td>Others</td>\n",
       "    </tr>\n",
       "    <tr>\n",
       "      <th>4</th>\n",
       "      <td>0.253597</td>\n",
       "      <td>556</td>\n",
       "      <td>Traffic Collision</td>\n",
       "    </tr>\n",
       "    <tr>\n",
       "      <th>5</th>\n",
       "      <td>0.531646</td>\n",
       "      <td>79</td>\n",
       "      <td>Water Rescue</td>\n",
       "    </tr>\n",
       "    <tr>\n",
       "      <th>6</th>\n",
       "      <td>0.781666</td>\n",
       "      <td>13461</td>\n",
       "      <td>_all</td>\n",
       "    </tr>\n",
       "  </tbody>\n",
       "</table>\n",
       "</div>"
      ],
      "text/plain": [
       "   accuracy  count             target\n",
       "0  0.513224   1399              Alarm\n",
       "1  0.682252   1989               Fire\n",
       "2  0.932163   8771            Medical\n",
       "3  0.131934    667             Others\n",
       "4  0.253597    556  Traffic Collision\n",
       "5  0.531646     79       Water Rescue\n",
       "6  0.781666  13461               _all"
      ]
     },
     "execution_count": 26,
     "metadata": {},
     "output_type": "execute_result"
    }
   ],
   "source": [
    "%%ml evaluate accuracy\n",
    "csv: ./calls/evaluation/predict_results_eval.csv"
   ]
  },
  {
   "cell_type": "markdown",
   "metadata": {},
   "source": [
    "The overall accuracy is 78.16%. The highest is Medical and the lowest two is others and traffic collision."
   ]
  },
  {
   "cell_type": "markdown",
   "metadata": {},
   "source": [
    "# Explain the Model"
   ]
  },
  {
   "cell_type": "code",
   "execution_count": 28,
   "metadata": {
    "collapsed": false
   },
   "outputs": [
    {
     "data": {
      "text/html": [
       "\n",
       "          <script src=\"/static/components/requirejs/require.js\"></script>\n",
       "          <script>\n",
       "            requirejs.config({\n",
       "              paths: {\n",
       "                base: '/static/base',\n",
       "              },\n",
       "            });\n",
       "          </script>\n",
       "          "
      ],
      "text/plain": [
       "<IPython.core.display.HTML object>"
      ]
     },
     "metadata": {},
     "output_type": "execute_result"
    },
    {
     "data": {
      "text/html": [
       "<table border=\"1\" class=\"dataframe\">\n",
       "  <thead>\n",
       "    <tr style=\"text-align: right;\">\n",
       "      <th>call_number</th>\n",
       "      <th>predicted</th>\n",
       "      <th>probability</th>\n",
       "      <th>address</th>\n",
       "      <th>box</th>\n",
       "      <th>call_final_disposition</th>\n",
       "      <th>call_type_group</th>\n",
       "      <th>day</th>\n",
       "      <th>hour</th>\n",
       "      <th>latitude</th>\n",
       "      <th>longitude</th>\n",
       "      <th>number_of_alarms</th>\n",
       "      <th>priority</th>\n",
       "      <th>unit_id</th>\n",
       "      <th>unit_type</th>\n",
       "      <th>weekday</th>\n",
       "    </tr>\n",
       "  </thead>\n",
       "  <tbody>\n",
       "    <tr>\n",
       "      <td>12990296</td>\n",
       "      <td>Fire</td>\n",
       "      <td>0.715706</td>\n",
       "      <td>0 Block of CARPENTER CT</td>\n",
       "      <td>6621</td>\n",
       "      <td>Other</td>\n",
       "      <td></td>\n",
       "      <td>299</td>\n",
       "      <td>16</td>\n",
       "      <td>37.7348224938</td>\n",
       "      <td>-122.384990412</td>\n",
       "      <td>1</td>\n",
       "      <td>3</td>\n",
       "      <td>B06</td>\n",
       "      <td>CHIEF</td>\n",
       "      <td>6</td>\n",
       "    </tr>\n",
       "    <tr>\n",
       "      <td>111590211</td>\n",
       "      <td>Alarm</td>\n",
       "      <td>0.568872</td>\n",
       "      <td>200 Block of LAKE MERCED HILL ST</td>\n",
       "      <td>8777</td>\n",
       "      <td>Other</td>\n",
       "      <td></td>\n",
       "      <td>159</td>\n",
       "      <td>14</td>\n",
       "      <td>37.7130437838</td>\n",
       "      <td>-122.483644014</td>\n",
       "      <td>1</td>\n",
       "      <td>3</td>\n",
       "      <td>T15</td>\n",
       "      <td>TRUCK</td>\n",
       "      <td>4</td>\n",
       "    </tr>\n",
       "    <tr>\n",
       "      <td>170070551</td>\n",
       "      <td>Medical</td>\n",
       "      <td>0.846294</td>\n",
       "      <td>100 Block of 3RD ST</td>\n",
       "      <td>9944</td>\n",
       "      <td>Code 2 Transport</td>\n",
       "      <td>Non Life-threatening</td>\n",
       "      <td>7</td>\n",
       "      <td>6</td>\n",
       "      <td>37.7860778017</td>\n",
       "      <td>-122.401709046</td>\n",
       "      <td>1</td>\n",
       "      <td>2</td>\n",
       "      <td>62</td>\n",
       "      <td>MEDIC</td>\n",
       "      <td>7</td>\n",
       "    </tr>\n",
       "    <tr>\n",
       "      <td>171293056</td>\n",
       "      <td>Water Rescue</td>\n",
       "      <td>0.997784</td>\n",
       "      <td>500 Block of SKYLINE BLVD</td>\n",
       "      <td>8772</td>\n",
       "      <td>Patient Declined Transport</td>\n",
       "      <td>Fire</td>\n",
       "      <td>129</td>\n",
       "      <td>17</td>\n",
       "      <td>37.7220782881</td>\n",
       "      <td>-122.501720823</td>\n",
       "      <td>1</td>\n",
       "      <td>3</td>\n",
       "      <td>T19</td>\n",
       "      <td>TRUCK</td>\n",
       "      <td>3</td>\n",
       "    </tr>\n",
       "  </tbody>\n",
       "</table>"
      ],
      "text/plain": [
       "<IPython.core.display.HTML object>"
      ]
     },
     "metadata": {},
     "output_type": "execute_result"
    }
   ],
   "source": [
    "%%ml predict\n",
    "model: ./calls/train/model\n",
    "data:\n",
    "    - 12990296,CHIEF,B06,6621,3,0 Block of CARPENTER CT,,Other,1,-122.384990412,37.7348224938,16,6,299\n",
    "    - 111590211,TRUCK,T15,8777,3,200 Block of LAKE MERCED HILL ST,,Other,1,-122.483644014,37.7130437838,14,4,159\n",
    "    - 170070551,MEDIC,62,9944,2,100 Block of 3RD ST,Non Life-threatening,Code 2 Transport,1,-122.401709046,37.7860778017,6,7,7\n",
    "    - 171293056,TRUCK,T19,8772,3,500 Block of SKYLINE BLVD,Fire,Patient Declined Transport,1,-122.501720823,37.7220782881,17,3,129"
   ]
  },
  {
   "cell_type": "markdown",
   "metadata": {},
   "source": [
    "These four are predicted correctly. Fire, Alarm, Water Rescue and Medical are classified with high accuracy."
   ]
  },
  {
   "cell_type": "code",
   "execution_count": 29,
   "metadata": {
    "collapsed": false
   },
   "outputs": [
    {
     "data": {
      "text/html": [
       "\n",
       "          <script src=\"/static/components/requirejs/require.js\"></script>\n",
       "          <script>\n",
       "            requirejs.config({\n",
       "              paths: {\n",
       "                base: '/static/base',\n",
       "              },\n",
       "            });\n",
       "          </script>\n",
       "          "
      ],
      "text/plain": [
       "<IPython.core.display.HTML object>"
      ]
     },
     "metadata": {},
     "output_type": "execute_result"
    },
    {
     "data": {
      "text/html": [
       "<table border=\"1\" class=\"dataframe\">\n",
       "  <thead>\n",
       "    <tr style=\"text-align: right;\">\n",
       "      <th>call_number</th>\n",
       "      <th>predicted</th>\n",
       "      <th>probability</th>\n",
       "      <th>address</th>\n",
       "      <th>box</th>\n",
       "      <th>call_final_disposition</th>\n",
       "      <th>call_type_group</th>\n",
       "      <th>day</th>\n",
       "      <th>hour</th>\n",
       "      <th>latitude</th>\n",
       "      <th>longitude</th>\n",
       "      <th>number_of_alarms</th>\n",
       "      <th>priority</th>\n",
       "      <th>unit_id</th>\n",
       "      <th>unit_type</th>\n",
       "      <th>weekday</th>\n",
       "    </tr>\n",
       "  </thead>\n",
       "  <tbody>\n",
       "    <tr>\n",
       "      <td>70480334</td>\n",
       "      <td>Fire</td>\n",
       "      <td>0.756857</td>\n",
       "      <td>19TH AV/HOLLOWAY AV</td>\n",
       "      <td>8751</td>\n",
       "      <td>Other</td>\n",
       "      <td></td>\n",
       "      <td>48</td>\n",
       "      <td>18</td>\n",
       "      <td>37.721057297</td>\n",
       "      <td>-122.47522195</td>\n",
       "      <td>1</td>\n",
       "      <td>3</td>\n",
       "      <td>T19</td>\n",
       "      <td>TRUCK</td>\n",
       "      <td>7</td>\n",
       "    </tr>\n",
       "    <tr>\n",
       "      <td>102630072</td>\n",
       "      <td>Medical</td>\n",
       "      <td>0.784687</td>\n",
       "      <td>BOWDOIN ST/MANSELL ST</td>\n",
       "      <td>6322</td>\n",
       "      <td>Code 2 Transport</td>\n",
       "      <td></td>\n",
       "      <td>263</td>\n",
       "      <td>8</td>\n",
       "      <td>37.7197360013</td>\n",
       "      <td>-122.407976928</td>\n",
       "      <td>1</td>\n",
       "      <td>1</td>\n",
       "      <td>86</td>\n",
       "      <td>MEDIC</td>\n",
       "      <td>2</td>\n",
       "    </tr>\n",
       "  </tbody>\n",
       "</table>"
      ],
      "text/plain": [
       "<IPython.core.display.HTML object>"
      ]
     },
     "metadata": {},
     "output_type": "execute_result"
    }
   ],
   "source": [
    "%%ml predict\n",
    "model: ./calls/train/model\n",
    "data:    \n",
    "    - 70480334,TRUCK,T19,8751,3,19TH AV/HOLLOWAY AV,,Other,1,-122.47522195,37.721057297,18,7,48 \n",
    "    - 102630072,MEDIC,86,6322,1,BOWDOIN ST/MANSELL ST,,Code 2 Transport,1,-122.407976928,37.7197360013,8,2,263"
   ]
  },
  {
   "cell_type": "markdown",
   "metadata": {},
   "source": [
    "For these two, they are predicted with errors. The first one should be classified as \"Others\" and the second one should be in \"Traffic Collision\" category. My model fails to predict \"Other\" and \"Traffic Collision\" with high accuracy. Just as Confusion_matrix has shown, Traffic Collision is mis-classified into Medical category."
   ]
  },
  {
   "cell_type": "markdown",
   "metadata": {},
   "source": [
    "# Conclusion"
   ]
  },
  {
   "cell_type": "markdown",
   "metadata": {},
   "source": [
    "I think the overall model is pretty good. If we know the box address, the exact time and numbers of calls, the unit type, \n",
    "and the urgency level, my model can predict the type of calls with confidence."
   ]
  }
 ],
 "metadata": {
  "kernelspec": {
   "display_name": "Python 2",
   "language": "python",
   "name": "python2"
  },
  "language_info": {
   "codemirror_mode": {
    "name": "ipython",
    "version": 2.0
   },
   "file_extension": ".py",
   "mimetype": "text/x-python",
   "name": "python",
   "nbconvert_exporter": "python",
   "pygments_lexer": "ipython2",
   "version": "2.7.12"
  }
 },
 "nbformat": 4,
 "nbformat_minor": 0
}